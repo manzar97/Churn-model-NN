{
 "cells": [
  {
   "cell_type": "code",
   "execution_count": 1,
   "id": "25c0e455",
   "metadata": {},
   "outputs": [],
   "source": [
    "import pandas as pd"
   ]
  },
  {
   "cell_type": "code",
   "execution_count": 2,
   "id": "ec664af4",
   "metadata": {},
   "outputs": [],
   "source": [
    "ds=pd.read_csv('Churn_Modelling.csv')"
   ]
  },
  {
   "cell_type": "code",
   "execution_count": 3,
   "id": "a68c5b1d",
   "metadata": {},
   "outputs": [
    {
     "data": {
      "text/html": [
       "<div>\n",
       "<style scoped>\n",
       "    .dataframe tbody tr th:only-of-type {\n",
       "        vertical-align: middle;\n",
       "    }\n",
       "\n",
       "    .dataframe tbody tr th {\n",
       "        vertical-align: top;\n",
       "    }\n",
       "\n",
       "    .dataframe thead th {\n",
       "        text-align: right;\n",
       "    }\n",
       "</style>\n",
       "<table border=\"1\" class=\"dataframe\">\n",
       "  <thead>\n",
       "    <tr style=\"text-align: right;\">\n",
       "      <th></th>\n",
       "      <th>RowNumber</th>\n",
       "      <th>CustomerId</th>\n",
       "      <th>Surname</th>\n",
       "      <th>CreditScore</th>\n",
       "      <th>Geography</th>\n",
       "      <th>Gender</th>\n",
       "      <th>Age</th>\n",
       "      <th>Tenure</th>\n",
       "      <th>Balance</th>\n",
       "      <th>NumOfProducts</th>\n",
       "      <th>HasCrCard</th>\n",
       "      <th>IsActiveMember</th>\n",
       "      <th>EstimatedSalary</th>\n",
       "      <th>Exited</th>\n",
       "    </tr>\n",
       "  </thead>\n",
       "  <tbody>\n",
       "    <tr>\n",
       "      <th>0</th>\n",
       "      <td>1</td>\n",
       "      <td>15634602</td>\n",
       "      <td>Hargrave</td>\n",
       "      <td>619</td>\n",
       "      <td>France</td>\n",
       "      <td>Female</td>\n",
       "      <td>42</td>\n",
       "      <td>2</td>\n",
       "      <td>0.00</td>\n",
       "      <td>1</td>\n",
       "      <td>1</td>\n",
       "      <td>1</td>\n",
       "      <td>101348.88</td>\n",
       "      <td>1</td>\n",
       "    </tr>\n",
       "    <tr>\n",
       "      <th>1</th>\n",
       "      <td>2</td>\n",
       "      <td>15647311</td>\n",
       "      <td>Hill</td>\n",
       "      <td>608</td>\n",
       "      <td>Spain</td>\n",
       "      <td>Female</td>\n",
       "      <td>41</td>\n",
       "      <td>1</td>\n",
       "      <td>83807.86</td>\n",
       "      <td>1</td>\n",
       "      <td>0</td>\n",
       "      <td>1</td>\n",
       "      <td>112542.58</td>\n",
       "      <td>0</td>\n",
       "    </tr>\n",
       "    <tr>\n",
       "      <th>2</th>\n",
       "      <td>3</td>\n",
       "      <td>15619304</td>\n",
       "      <td>Onio</td>\n",
       "      <td>502</td>\n",
       "      <td>France</td>\n",
       "      <td>Female</td>\n",
       "      <td>42</td>\n",
       "      <td>8</td>\n",
       "      <td>159660.80</td>\n",
       "      <td>3</td>\n",
       "      <td>1</td>\n",
       "      <td>0</td>\n",
       "      <td>113931.57</td>\n",
       "      <td>1</td>\n",
       "    </tr>\n",
       "    <tr>\n",
       "      <th>3</th>\n",
       "      <td>4</td>\n",
       "      <td>15701354</td>\n",
       "      <td>Boni</td>\n",
       "      <td>699</td>\n",
       "      <td>France</td>\n",
       "      <td>Female</td>\n",
       "      <td>39</td>\n",
       "      <td>1</td>\n",
       "      <td>0.00</td>\n",
       "      <td>2</td>\n",
       "      <td>0</td>\n",
       "      <td>0</td>\n",
       "      <td>93826.63</td>\n",
       "      <td>0</td>\n",
       "    </tr>\n",
       "    <tr>\n",
       "      <th>4</th>\n",
       "      <td>5</td>\n",
       "      <td>15737888</td>\n",
       "      <td>Mitchell</td>\n",
       "      <td>850</td>\n",
       "      <td>Spain</td>\n",
       "      <td>Female</td>\n",
       "      <td>43</td>\n",
       "      <td>2</td>\n",
       "      <td>125510.82</td>\n",
       "      <td>1</td>\n",
       "      <td>1</td>\n",
       "      <td>1</td>\n",
       "      <td>79084.10</td>\n",
       "      <td>0</td>\n",
       "    </tr>\n",
       "  </tbody>\n",
       "</table>\n",
       "</div>"
      ],
      "text/plain": [
       "   RowNumber  CustomerId   Surname  CreditScore Geography  Gender  Age  \\\n",
       "0          1    15634602  Hargrave          619    France  Female   42   \n",
       "1          2    15647311      Hill          608     Spain  Female   41   \n",
       "2          3    15619304      Onio          502    France  Female   42   \n",
       "3          4    15701354      Boni          699    France  Female   39   \n",
       "4          5    15737888  Mitchell          850     Spain  Female   43   \n",
       "\n",
       "   Tenure    Balance  NumOfProducts  HasCrCard  IsActiveMember  \\\n",
       "0       2       0.00              1          1               1   \n",
       "1       1   83807.86              1          0               1   \n",
       "2       8  159660.80              3          1               0   \n",
       "3       1       0.00              2          0               0   \n",
       "4       2  125510.82              1          1               1   \n",
       "\n",
       "   EstimatedSalary  Exited  \n",
       "0        101348.88       1  \n",
       "1        112542.58       0  \n",
       "2        113931.57       1  \n",
       "3         93826.63       0  \n",
       "4         79084.10       0  "
      ]
     },
     "execution_count": 3,
     "metadata": {},
     "output_type": "execute_result"
    }
   ],
   "source": [
    "ds.head()"
   ]
  },
  {
   "cell_type": "code",
   "execution_count": 4,
   "id": "03f73edb",
   "metadata": {},
   "outputs": [],
   "source": [
    "y=ds['Exited']"
   ]
  },
  {
   "cell_type": "code",
   "execution_count": 5,
   "id": "e11caf5f",
   "metadata": {},
   "outputs": [
    {
     "data": {
      "text/plain": [
       "Index(['RowNumber', 'CustomerId', 'Surname', 'CreditScore', 'Geography',\n",
       "       'Gender', 'Age', 'Tenure', 'Balance', 'NumOfProducts', 'HasCrCard',\n",
       "       'IsActiveMember', 'EstimatedSalary', 'Exited'],\n",
       "      dtype='object')"
      ]
     },
     "execution_count": 5,
     "metadata": {},
     "output_type": "execute_result"
    }
   ],
   "source": [
    "ds.columns"
   ]
  },
  {
   "cell_type": "code",
   "execution_count": 13,
   "id": "a50de5e5",
   "metadata": {},
   "outputs": [],
   "source": [
    "X=ds[['CreditScore', 'Age', 'Tenure', 'Balance', 'NumOfProducts', 'HasCrCard',\n",
    "       'IsActiveMember', 'EstimatedSalary']]"
   ]
  },
  {
   "cell_type": "code",
   "execution_count": 14,
   "id": "c8b85657",
   "metadata": {},
   "outputs": [],
   "source": [
    "#ohe\n",
    "geo=pd.get_dummies(ds['Geography'],drop_first=True)"
   ]
  },
  {
   "cell_type": "code",
   "execution_count": 15,
   "id": "dc19bd16",
   "metadata": {},
   "outputs": [
    {
     "data": {
      "text/html": [
       "<div>\n",
       "<style scoped>\n",
       "    .dataframe tbody tr th:only-of-type {\n",
       "        vertical-align: middle;\n",
       "    }\n",
       "\n",
       "    .dataframe tbody tr th {\n",
       "        vertical-align: top;\n",
       "    }\n",
       "\n",
       "    .dataframe thead th {\n",
       "        text-align: right;\n",
       "    }\n",
       "</style>\n",
       "<table border=\"1\" class=\"dataframe\">\n",
       "  <thead>\n",
       "    <tr style=\"text-align: right;\">\n",
       "      <th></th>\n",
       "      <th>Germany</th>\n",
       "      <th>Spain</th>\n",
       "    </tr>\n",
       "  </thead>\n",
       "  <tbody>\n",
       "    <tr>\n",
       "      <th>0</th>\n",
       "      <td>0</td>\n",
       "      <td>0</td>\n",
       "    </tr>\n",
       "    <tr>\n",
       "      <th>1</th>\n",
       "      <td>0</td>\n",
       "      <td>1</td>\n",
       "    </tr>\n",
       "    <tr>\n",
       "      <th>2</th>\n",
       "      <td>0</td>\n",
       "      <td>0</td>\n",
       "    </tr>\n",
       "    <tr>\n",
       "      <th>3</th>\n",
       "      <td>0</td>\n",
       "      <td>0</td>\n",
       "    </tr>\n",
       "    <tr>\n",
       "      <th>4</th>\n",
       "      <td>0</td>\n",
       "      <td>1</td>\n",
       "    </tr>\n",
       "    <tr>\n",
       "      <th>...</th>\n",
       "      <td>...</td>\n",
       "      <td>...</td>\n",
       "    </tr>\n",
       "    <tr>\n",
       "      <th>9995</th>\n",
       "      <td>0</td>\n",
       "      <td>0</td>\n",
       "    </tr>\n",
       "    <tr>\n",
       "      <th>9996</th>\n",
       "      <td>0</td>\n",
       "      <td>0</td>\n",
       "    </tr>\n",
       "    <tr>\n",
       "      <th>9997</th>\n",
       "      <td>0</td>\n",
       "      <td>0</td>\n",
       "    </tr>\n",
       "    <tr>\n",
       "      <th>9998</th>\n",
       "      <td>1</td>\n",
       "      <td>0</td>\n",
       "    </tr>\n",
       "    <tr>\n",
       "      <th>9999</th>\n",
       "      <td>0</td>\n",
       "      <td>0</td>\n",
       "    </tr>\n",
       "  </tbody>\n",
       "</table>\n",
       "<p>10000 rows × 2 columns</p>\n",
       "</div>"
      ],
      "text/plain": [
       "      Germany  Spain\n",
       "0           0      0\n",
       "1           0      1\n",
       "2           0      0\n",
       "3           0      0\n",
       "4           0      1\n",
       "...       ...    ...\n",
       "9995        0      0\n",
       "9996        0      0\n",
       "9997        0      0\n",
       "9998        1      0\n",
       "9999        0      0\n",
       "\n",
       "[10000 rows x 2 columns]"
      ]
     },
     "execution_count": 15,
     "metadata": {},
     "output_type": "execute_result"
    }
   ],
   "source": [
    "geo"
   ]
  },
  {
   "cell_type": "code",
   "execution_count": 16,
   "id": "9b486b18",
   "metadata": {},
   "outputs": [],
   "source": [
    "#ohe\n",
    "gender=pd.get_dummies(ds['Gender'],drop_first=True)"
   ]
  },
  {
   "cell_type": "code",
   "execution_count": 17,
   "id": "926c62c5",
   "metadata": {},
   "outputs": [
    {
     "data": {
      "text/html": [
       "<div>\n",
       "<style scoped>\n",
       "    .dataframe tbody tr th:only-of-type {\n",
       "        vertical-align: middle;\n",
       "    }\n",
       "\n",
       "    .dataframe tbody tr th {\n",
       "        vertical-align: top;\n",
       "    }\n",
       "\n",
       "    .dataframe thead th {\n",
       "        text-align: right;\n",
       "    }\n",
       "</style>\n",
       "<table border=\"1\" class=\"dataframe\">\n",
       "  <thead>\n",
       "    <tr style=\"text-align: right;\">\n",
       "      <th></th>\n",
       "      <th>Male</th>\n",
       "    </tr>\n",
       "  </thead>\n",
       "  <tbody>\n",
       "    <tr>\n",
       "      <th>0</th>\n",
       "      <td>0</td>\n",
       "    </tr>\n",
       "    <tr>\n",
       "      <th>1</th>\n",
       "      <td>0</td>\n",
       "    </tr>\n",
       "    <tr>\n",
       "      <th>2</th>\n",
       "      <td>0</td>\n",
       "    </tr>\n",
       "    <tr>\n",
       "      <th>3</th>\n",
       "      <td>0</td>\n",
       "    </tr>\n",
       "    <tr>\n",
       "      <th>4</th>\n",
       "      <td>0</td>\n",
       "    </tr>\n",
       "    <tr>\n",
       "      <th>...</th>\n",
       "      <td>...</td>\n",
       "    </tr>\n",
       "    <tr>\n",
       "      <th>9995</th>\n",
       "      <td>1</td>\n",
       "    </tr>\n",
       "    <tr>\n",
       "      <th>9996</th>\n",
       "      <td>1</td>\n",
       "    </tr>\n",
       "    <tr>\n",
       "      <th>9997</th>\n",
       "      <td>0</td>\n",
       "    </tr>\n",
       "    <tr>\n",
       "      <th>9998</th>\n",
       "      <td>1</td>\n",
       "    </tr>\n",
       "    <tr>\n",
       "      <th>9999</th>\n",
       "      <td>0</td>\n",
       "    </tr>\n",
       "  </tbody>\n",
       "</table>\n",
       "<p>10000 rows × 1 columns</p>\n",
       "</div>"
      ],
      "text/plain": [
       "      Male\n",
       "0        0\n",
       "1        0\n",
       "2        0\n",
       "3        0\n",
       "4        0\n",
       "...    ...\n",
       "9995     1\n",
       "9996     1\n",
       "9997     0\n",
       "9998     1\n",
       "9999     0\n",
       "\n",
       "[10000 rows x 1 columns]"
      ]
     },
     "execution_count": 17,
     "metadata": {},
     "output_type": "execute_result"
    }
   ],
   "source": [
    "gender"
   ]
  },
  {
   "cell_type": "code",
   "execution_count": 18,
   "id": "4671f17f",
   "metadata": {},
   "outputs": [],
   "source": [
    "X_final = pd.concat([geo,gender,X],axis=1)"
   ]
  },
  {
   "cell_type": "code",
   "execution_count": 19,
   "id": "207ef6f4",
   "metadata": {},
   "outputs": [
    {
     "data": {
      "text/html": [
       "<div>\n",
       "<style scoped>\n",
       "    .dataframe tbody tr th:only-of-type {\n",
       "        vertical-align: middle;\n",
       "    }\n",
       "\n",
       "    .dataframe tbody tr th {\n",
       "        vertical-align: top;\n",
       "    }\n",
       "\n",
       "    .dataframe thead th {\n",
       "        text-align: right;\n",
       "    }\n",
       "</style>\n",
       "<table border=\"1\" class=\"dataframe\">\n",
       "  <thead>\n",
       "    <tr style=\"text-align: right;\">\n",
       "      <th></th>\n",
       "      <th>Germany</th>\n",
       "      <th>Spain</th>\n",
       "      <th>Male</th>\n",
       "      <th>CreditScore</th>\n",
       "      <th>Age</th>\n",
       "      <th>Tenure</th>\n",
       "      <th>Balance</th>\n",
       "      <th>NumOfProducts</th>\n",
       "      <th>HasCrCard</th>\n",
       "      <th>IsActiveMember</th>\n",
       "      <th>EstimatedSalary</th>\n",
       "    </tr>\n",
       "  </thead>\n",
       "  <tbody>\n",
       "    <tr>\n",
       "      <th>0</th>\n",
       "      <td>0</td>\n",
       "      <td>0</td>\n",
       "      <td>0</td>\n",
       "      <td>619</td>\n",
       "      <td>42</td>\n",
       "      <td>2</td>\n",
       "      <td>0.00</td>\n",
       "      <td>1</td>\n",
       "      <td>1</td>\n",
       "      <td>1</td>\n",
       "      <td>101348.88</td>\n",
       "    </tr>\n",
       "    <tr>\n",
       "      <th>1</th>\n",
       "      <td>0</td>\n",
       "      <td>1</td>\n",
       "      <td>0</td>\n",
       "      <td>608</td>\n",
       "      <td>41</td>\n",
       "      <td>1</td>\n",
       "      <td>83807.86</td>\n",
       "      <td>1</td>\n",
       "      <td>0</td>\n",
       "      <td>1</td>\n",
       "      <td>112542.58</td>\n",
       "    </tr>\n",
       "    <tr>\n",
       "      <th>2</th>\n",
       "      <td>0</td>\n",
       "      <td>0</td>\n",
       "      <td>0</td>\n",
       "      <td>502</td>\n",
       "      <td>42</td>\n",
       "      <td>8</td>\n",
       "      <td>159660.80</td>\n",
       "      <td>3</td>\n",
       "      <td>1</td>\n",
       "      <td>0</td>\n",
       "      <td>113931.57</td>\n",
       "    </tr>\n",
       "    <tr>\n",
       "      <th>3</th>\n",
       "      <td>0</td>\n",
       "      <td>0</td>\n",
       "      <td>0</td>\n",
       "      <td>699</td>\n",
       "      <td>39</td>\n",
       "      <td>1</td>\n",
       "      <td>0.00</td>\n",
       "      <td>2</td>\n",
       "      <td>0</td>\n",
       "      <td>0</td>\n",
       "      <td>93826.63</td>\n",
       "    </tr>\n",
       "    <tr>\n",
       "      <th>4</th>\n",
       "      <td>0</td>\n",
       "      <td>1</td>\n",
       "      <td>0</td>\n",
       "      <td>850</td>\n",
       "      <td>43</td>\n",
       "      <td>2</td>\n",
       "      <td>125510.82</td>\n",
       "      <td>1</td>\n",
       "      <td>1</td>\n",
       "      <td>1</td>\n",
       "      <td>79084.10</td>\n",
       "    </tr>\n",
       "    <tr>\n",
       "      <th>5</th>\n",
       "      <td>0</td>\n",
       "      <td>1</td>\n",
       "      <td>1</td>\n",
       "      <td>645</td>\n",
       "      <td>44</td>\n",
       "      <td>8</td>\n",
       "      <td>113755.78</td>\n",
       "      <td>2</td>\n",
       "      <td>1</td>\n",
       "      <td>0</td>\n",
       "      <td>149756.71</td>\n",
       "    </tr>\n",
       "    <tr>\n",
       "      <th>6</th>\n",
       "      <td>0</td>\n",
       "      <td>0</td>\n",
       "      <td>1</td>\n",
       "      <td>822</td>\n",
       "      <td>50</td>\n",
       "      <td>7</td>\n",
       "      <td>0.00</td>\n",
       "      <td>2</td>\n",
       "      <td>1</td>\n",
       "      <td>1</td>\n",
       "      <td>10062.80</td>\n",
       "    </tr>\n",
       "    <tr>\n",
       "      <th>7</th>\n",
       "      <td>1</td>\n",
       "      <td>0</td>\n",
       "      <td>0</td>\n",
       "      <td>376</td>\n",
       "      <td>29</td>\n",
       "      <td>4</td>\n",
       "      <td>115046.74</td>\n",
       "      <td>4</td>\n",
       "      <td>1</td>\n",
       "      <td>0</td>\n",
       "      <td>119346.88</td>\n",
       "    </tr>\n",
       "    <tr>\n",
       "      <th>8</th>\n",
       "      <td>0</td>\n",
       "      <td>0</td>\n",
       "      <td>1</td>\n",
       "      <td>501</td>\n",
       "      <td>44</td>\n",
       "      <td>4</td>\n",
       "      <td>142051.07</td>\n",
       "      <td>2</td>\n",
       "      <td>0</td>\n",
       "      <td>1</td>\n",
       "      <td>74940.50</td>\n",
       "    </tr>\n",
       "    <tr>\n",
       "      <th>9</th>\n",
       "      <td>0</td>\n",
       "      <td>0</td>\n",
       "      <td>1</td>\n",
       "      <td>684</td>\n",
       "      <td>27</td>\n",
       "      <td>2</td>\n",
       "      <td>134603.88</td>\n",
       "      <td>1</td>\n",
       "      <td>1</td>\n",
       "      <td>1</td>\n",
       "      <td>71725.73</td>\n",
       "    </tr>\n",
       "  </tbody>\n",
       "</table>\n",
       "</div>"
      ],
      "text/plain": [
       "   Germany  Spain  Male  CreditScore  Age  Tenure    Balance  NumOfProducts  \\\n",
       "0        0      0     0          619   42       2       0.00              1   \n",
       "1        0      1     0          608   41       1   83807.86              1   \n",
       "2        0      0     0          502   42       8  159660.80              3   \n",
       "3        0      0     0          699   39       1       0.00              2   \n",
       "4        0      1     0          850   43       2  125510.82              1   \n",
       "5        0      1     1          645   44       8  113755.78              2   \n",
       "6        0      0     1          822   50       7       0.00              2   \n",
       "7        1      0     0          376   29       4  115046.74              4   \n",
       "8        0      0     1          501   44       4  142051.07              2   \n",
       "9        0      0     1          684   27       2  134603.88              1   \n",
       "\n",
       "   HasCrCard  IsActiveMember  EstimatedSalary  \n",
       "0          1               1        101348.88  \n",
       "1          0               1        112542.58  \n",
       "2          1               0        113931.57  \n",
       "3          0               0         93826.63  \n",
       "4          1               1         79084.10  \n",
       "5          1               0        149756.71  \n",
       "6          1               1         10062.80  \n",
       "7          1               0        119346.88  \n",
       "8          0               1         74940.50  \n",
       "9          1               1         71725.73  "
      ]
     },
     "execution_count": 19,
     "metadata": {},
     "output_type": "execute_result"
    }
   ],
   "source": [
    "X_final.head(10)"
   ]
  },
  {
   "cell_type": "code",
   "execution_count": 21,
   "id": "8a5ee838",
   "metadata": {},
   "outputs": [],
   "source": [
    "from  sklearn.model_selection import train_test_split"
   ]
  },
  {
   "cell_type": "code",
   "execution_count": 23,
   "id": "f04c3528",
   "metadata": {},
   "outputs": [],
   "source": [
    "X_train, X_test, y_train, y_test = train_test_split(\n",
    "...     X_final, y, test_size=0.20,random_state=42)"
   ]
  },
  {
   "cell_type": "code",
   "execution_count": 24,
   "id": "039afd3f",
   "metadata": {},
   "outputs": [],
   "source": [
    "from keras.models import Sequential"
   ]
  },
  {
   "cell_type": "code",
   "execution_count": 25,
   "id": "37dfe8b9",
   "metadata": {},
   "outputs": [],
   "source": [
    "model=Sequential()"
   ]
  },
  {
   "cell_type": "code",
   "execution_count": 26,
   "id": "297eb872",
   "metadata": {},
   "outputs": [
    {
     "data": {
      "text/plain": [
       "{'name': 'sequential', 'layers': []}"
      ]
     },
     "execution_count": 26,
     "metadata": {},
     "output_type": "execute_result"
    }
   ],
   "source": [
    "model.get_config()"
   ]
  },
  {
   "cell_type": "code",
   "execution_count": 27,
   "id": "0a090f06",
   "metadata": {},
   "outputs": [],
   "source": [
    "from keras.layers import Dense\n"
   ]
  },
  {
   "cell_type": "code",
   "execution_count": 29,
   "id": "74246d12",
   "metadata": {},
   "outputs": [],
   "source": [
    "model.add(Dense(units=8,input_dim=11,kernel_initializer='zeros',bias_initializer='zeros',activation='relu'))"
   ]
  },
  {
   "cell_type": "code",
   "execution_count": 30,
   "id": "2124fd4c",
   "metadata": {},
   "outputs": [
    {
     "name": "stdout",
     "output_type": "stream",
     "text": [
      "Model: \"sequential\"\n",
      "_________________________________________________________________\n",
      "Layer (type)                 Output Shape              Param #   \n",
      "=================================================================\n",
      "dense (Dense)                (None, 8)                 96        \n",
      "=================================================================\n",
      "Total params: 96\n",
      "Trainable params: 96\n",
      "Non-trainable params: 0\n",
      "_________________________________________________________________\n"
     ]
    }
   ],
   "source": [
    "model.summary()\n"
   ]
  },
  {
   "cell_type": "code",
   "execution_count": 32,
   "id": "dffab434",
   "metadata": {},
   "outputs": [
    {
     "data": {
      "text/plain": [
       "[array([[0., 0., 0., 0., 0., 0., 0., 0.],\n",
       "        [0., 0., 0., 0., 0., 0., 0., 0.],\n",
       "        [0., 0., 0., 0., 0., 0., 0., 0.],\n",
       "        [0., 0., 0., 0., 0., 0., 0., 0.],\n",
       "        [0., 0., 0., 0., 0., 0., 0., 0.],\n",
       "        [0., 0., 0., 0., 0., 0., 0., 0.],\n",
       "        [0., 0., 0., 0., 0., 0., 0., 0.],\n",
       "        [0., 0., 0., 0., 0., 0., 0., 0.],\n",
       "        [0., 0., 0., 0., 0., 0., 0., 0.],\n",
       "        [0., 0., 0., 0., 0., 0., 0., 0.],\n",
       "        [0., 0., 0., 0., 0., 0., 0., 0.]], dtype=float32),\n",
       " array([0., 0., 0., 0., 0., 0., 0., 0.], dtype=float32)]"
      ]
     },
     "execution_count": 32,
     "metadata": {},
     "output_type": "execute_result"
    }
   ],
   "source": [
    "model.get_layer('dense').get_weights()"
   ]
  },
  {
   "cell_type": "code",
   "execution_count": 35,
   "id": "b604de8c",
   "metadata": {},
   "outputs": [],
   "source": [
    "model.add(Dense(units=6,kernel_initializer='GlorotNormal',bias_initializer='zeros',activation='relu'))"
   ]
  },
  {
   "cell_type": "code",
   "execution_count": 39,
   "id": "96f24f72",
   "metadata": {},
   "outputs": [
    {
     "data": {
      "text/plain": [
       "[array([[0., 0., 0., 0., 0., 0.],\n",
       "        [0., 0., 0., 0., 0., 0.],\n",
       "        [0., 0., 0., 0., 0., 0.],\n",
       "        [0., 0., 0., 0., 0., 0.],\n",
       "        [0., 0., 0., 0., 0., 0.],\n",
       "        [0., 0., 0., 0., 0., 0.],\n",
       "        [0., 0., 0., 0., 0., 0.],\n",
       "        [0., 0., 0., 0., 0., 0.]], dtype=float32),\n",
       " array([0., 0., 0., 0., 0., 0.], dtype=float32)]"
      ]
     },
     "execution_count": 39,
     "metadata": {},
     "output_type": "execute_result"
    }
   ],
   "source": [
    "model.get_layer('dense_1').get_weights()"
   ]
  },
  {
   "cell_type": "code",
   "execution_count": 40,
   "id": "992c24ab",
   "metadata": {},
   "outputs": [],
   "source": [
    "model.add(Dense(units=1,activation='sigmoid'))"
   ]
  },
  {
   "cell_type": "code",
   "execution_count": 42,
   "id": "c05c0995",
   "metadata": {},
   "outputs": [
    {
     "name": "stdout",
     "output_type": "stream",
     "text": [
      "Model: \"sequential\"\n",
      "_________________________________________________________________\n",
      "Layer (type)                 Output Shape              Param #   \n",
      "=================================================================\n",
      "dense (Dense)                (None, 8)                 96        \n",
      "_________________________________________________________________\n",
      "dense_1 (Dense)              (None, 6)                 54        \n",
      "_________________________________________________________________\n",
      "dense_2 (Dense)              (None, 6)                 42        \n",
      "_________________________________________________________________\n",
      "dense_3 (Dense)              (None, 1)                 7         \n",
      "=================================================================\n",
      "Total params: 199\n",
      "Trainable params: 199\n",
      "Non-trainable params: 0\n",
      "_________________________________________________________________\n"
     ]
    }
   ],
   "source": [
    "model.summary()"
   ]
  },
  {
   "cell_type": "code",
   "execution_count": 43,
   "id": "c4d85372",
   "metadata": {},
   "outputs": [],
   "source": [
    "from keras.optimizers import Adam"
   ]
  },
  {
   "cell_type": "code",
   "execution_count": 44,
   "id": "5b48500f",
   "metadata": {},
   "outputs": [],
   "source": [
    "model.compile(optimizer=Adam(learning_rate=0.0000001),loss='binary_crossentropy')"
   ]
  },
  {
   "cell_type": "code",
   "execution_count": 45,
   "id": "b7ececaa",
   "metadata": {},
   "outputs": [
    {
     "name": "stdout",
     "output_type": "stream",
     "text": [
      "Epoch 1/100\n",
      "250/250 [==============================] - 0s 781us/step - loss: 0.6931\n",
      "Epoch 2/100\n",
      "250/250 [==============================] - 0s 796us/step - loss: 0.6931\n",
      "Epoch 3/100\n",
      "250/250 [==============================] - 0s 753us/step - loss: 0.6931\n",
      "Epoch 4/100\n",
      "250/250 [==============================] - 0s 788us/step - loss: 0.6931\n",
      "Epoch 5/100\n",
      "250/250 [==============================] - 0s 714us/step - loss: 0.6931\n",
      "Epoch 6/100\n",
      "250/250 [==============================] - 0s 771us/step - loss: 0.6931\n",
      "Epoch 7/100\n",
      "250/250 [==============================] - 0s 776us/step - loss: 0.6931\n",
      "Epoch 8/100\n",
      "250/250 [==============================] - 0s 764us/step - loss: 0.6931\n",
      "Epoch 9/100\n",
      "250/250 [==============================] - 0s 753us/step - loss: 0.6931\n",
      "Epoch 10/100\n",
      "250/250 [==============================] - 0s 832us/step - loss: 0.6931\n",
      "Epoch 11/100\n",
      "250/250 [==============================] - 0s 886us/step - loss: 0.6931\n",
      "Epoch 12/100\n",
      "250/250 [==============================] - 0s 916us/step - loss: 0.6931\n",
      "Epoch 13/100\n",
      "250/250 [==============================] - 0s 884us/step - loss: 0.6931\n",
      "Epoch 14/100\n",
      "250/250 [==============================] - 0s 852us/step - loss: 0.6931\n",
      "Epoch 15/100\n",
      "250/250 [==============================] - 0s 820us/step - loss: 0.6930\n",
      "Epoch 16/100\n",
      "250/250 [==============================] - 0s 762us/step - loss: 0.6930\n",
      "Epoch 17/100\n",
      "250/250 [==============================] - 0s 786us/step - loss: 0.6930\n",
      "Epoch 18/100\n",
      "250/250 [==============================] - 0s 780us/step - loss: 0.6930\n",
      "Epoch 19/100\n",
      "250/250 [==============================] - 0s 800us/step - loss: 0.6930\n",
      "Epoch 20/100\n",
      "250/250 [==============================] - 0s 844us/step - loss: 0.6930\n",
      "Epoch 21/100\n",
      "250/250 [==============================] - 0s 758us/step - loss: 0.6930\n",
      "Epoch 22/100\n",
      "250/250 [==============================] - 0s 793us/step - loss: 0.6930\n",
      "Epoch 23/100\n",
      "250/250 [==============================] - 0s 744us/step - loss: 0.6930\n",
      "Epoch 24/100\n",
      "250/250 [==============================] - 0s 772us/step - loss: 0.6930\n",
      "Epoch 25/100\n",
      "250/250 [==============================] - 0s 796us/step - loss: 0.6930\n",
      "Epoch 26/100\n",
      "250/250 [==============================] - 0s 747us/step - loss: 0.6930\n",
      "Epoch 27/100\n",
      "250/250 [==============================] - 0s 740us/step - loss: 0.6930\n",
      "Epoch 28/100\n",
      "250/250 [==============================] - 0s 770us/step - loss: 0.6930\n",
      "Epoch 29/100\n",
      "250/250 [==============================] - 0s 844us/step - loss: 0.6929\n",
      "Epoch 30/100\n",
      "250/250 [==============================] - 0s 840us/step - loss: 0.6929\n",
      "Epoch 31/100\n",
      "250/250 [==============================] - 0s 740us/step - loss: 0.6929\n",
      "Epoch 32/100\n",
      "250/250 [==============================] - 0s 738us/step - loss: 0.6929\n",
      "Epoch 33/100\n",
      "250/250 [==============================] - 0s 749us/step - loss: 0.6929\n",
      "Epoch 34/100\n",
      "250/250 [==============================] - 0s 792us/step - loss: 0.6929\n",
      "Epoch 35/100\n",
      "250/250 [==============================] - 0s 730us/step - loss: 0.6929\n",
      "Epoch 36/100\n",
      "250/250 [==============================] - 0s 738us/step - loss: 0.6929\n",
      "Epoch 37/100\n",
      "250/250 [==============================] - 0s 792us/step - loss: 0.6929\n",
      "Epoch 38/100\n",
      "250/250 [==============================] - 0s 765us/step - loss: 0.6929\n",
      "Epoch 39/100\n",
      "250/250 [==============================] - 0s 752us/step - loss: 0.6929\n",
      "Epoch 40/100\n",
      "250/250 [==============================] - 0s 743us/step - loss: 0.6929\n",
      "Epoch 41/100\n",
      "250/250 [==============================] - 0s 839us/step - loss: 0.6929\n",
      "Epoch 42/100\n",
      "250/250 [==============================] - 0s 768us/step - loss: 0.6928\n",
      "Epoch 43/100\n",
      "250/250 [==============================] - 0s 743us/step - loss: 0.6928\n",
      "Epoch 44/100\n",
      "250/250 [==============================] - 0s 757us/step - loss: 0.6928\n",
      "Epoch 45/100\n",
      "250/250 [==============================] - 0s 805us/step - loss: 0.6928\n",
      "Epoch 46/100\n",
      "250/250 [==============================] - 0s 762us/step - loss: 0.6928\n",
      "Epoch 47/100\n",
      "250/250 [==============================] - 0s 850us/step - loss: 0.6928\n",
      "Epoch 48/100\n",
      "250/250 [==============================] - 0s 829us/step - loss: 0.6928\n",
      "Epoch 49/100\n",
      "250/250 [==============================] - 0s 762us/step - loss: 0.6928\n",
      "Epoch 50/100\n",
      "250/250 [==============================] - 0s 769us/step - loss: 0.6928\n",
      "Epoch 51/100\n",
      "250/250 [==============================] - 0s 752us/step - loss: 0.6928\n",
      "Epoch 52/100\n",
      "250/250 [==============================] - 0s 856us/step - loss: 0.6928\n",
      "Epoch 53/100\n",
      "250/250 [==============================] - 0s 812us/step - loss: 0.6928\n",
      "Epoch 54/100\n",
      "250/250 [==============================] - 0s 836us/step - loss: 0.6928\n",
      "Epoch 55/100\n",
      "250/250 [==============================] - 0s 753us/step - loss: 0.6928\n",
      "Epoch 56/100\n",
      "250/250 [==============================] - 0s 804us/step - loss: 0.6928\n",
      "Epoch 57/100\n",
      "250/250 [==============================] - 0s 718us/step - loss: 0.6927\n",
      "Epoch 58/100\n",
      "250/250 [==============================] - 0s 832us/step - loss: 0.6927\n",
      "Epoch 59/100\n",
      "250/250 [==============================] - 0s 757us/step - loss: 0.6927\n",
      "Epoch 60/100\n",
      "250/250 [==============================] - 0s 842us/step - loss: 0.6927\n",
      "Epoch 61/100\n",
      "250/250 [==============================] - 0s 884us/step - loss: 0.6927\n",
      "Epoch 62/100\n",
      "250/250 [==============================] - 0s 812us/step - loss: 0.6927\n",
      "Epoch 63/100\n",
      "250/250 [==============================] - 0s 804us/step - loss: 0.6927\n",
      "Epoch 64/100\n",
      "250/250 [==============================] - 0s 790us/step - loss: 0.6927\n",
      "Epoch 65/100\n",
      "250/250 [==============================] - 0s 783us/step - loss: 0.6927\n",
      "Epoch 66/100\n",
      "250/250 [==============================] - 0s 824us/step - loss: 0.6927\n",
      "Epoch 67/100\n",
      "250/250 [==============================] - 0s 755us/step - loss: 0.6927\n",
      "Epoch 68/100\n",
      "250/250 [==============================] - 0s 840us/step - loss: 0.6927\n",
      "Epoch 69/100\n",
      "250/250 [==============================] - 0s 840us/step - loss: 0.6927\n",
      "Epoch 70/100\n",
      "250/250 [==============================] - 0s 780us/step - loss: 0.6927\n",
      "Epoch 71/100\n",
      "250/250 [==============================] - 0s 785us/step - loss: 0.6926\n",
      "Epoch 72/100\n",
      "250/250 [==============================] - 0s 767us/step - loss: 0.6926\n",
      "Epoch 73/100\n",
      "250/250 [==============================] - 0s 751us/step - loss: 0.6926\n",
      "Epoch 74/100\n",
      "250/250 [==============================] - 0s 825us/step - loss: 0.6926\n",
      "Epoch 75/100\n",
      "250/250 [==============================] - 0s 820us/step - loss: 0.6926\n",
      "Epoch 76/100\n",
      "250/250 [==============================] - 0s 796us/step - loss: 0.6926\n",
      "Epoch 77/100\n",
      "250/250 [==============================] - 0s 805us/step - loss: 0.6926\n",
      "Epoch 78/100\n",
      "250/250 [==============================] - 0s 753us/step - loss: 0.6926\n",
      "Epoch 79/100\n",
      "250/250 [==============================] - 0s 739us/step - loss: 0.6926\n",
      "Epoch 80/100\n",
      "250/250 [==============================] - 0s 773us/step - loss: 0.6926\n",
      "Epoch 81/100\n",
      "250/250 [==============================] - 0s 736us/step - loss: 0.6926\n",
      "Epoch 82/100\n",
      "250/250 [==============================] - 0s 772us/step - loss: 0.6926\n",
      "Epoch 83/100\n",
      "250/250 [==============================] - 0s 737us/step - loss: 0.6926\n",
      "Epoch 84/100\n",
      "250/250 [==============================] - 0s 748us/step - loss: 0.6926\n",
      "Epoch 85/100\n",
      "250/250 [==============================] - 0s 754us/step - loss: 0.6925\n",
      "Epoch 86/100\n",
      "250/250 [==============================] - 0s 803us/step - loss: 0.6925\n",
      "Epoch 87/100\n",
      "250/250 [==============================] - 0s 807us/step - loss: 0.6925\n",
      "Epoch 88/100\n",
      "250/250 [==============================] - 0s 726us/step - loss: 0.6925\n",
      "Epoch 89/100\n",
      "250/250 [==============================] - 0s 814us/step - loss: 0.6925\n",
      "Epoch 90/100\n",
      "250/250 [==============================] - 0s 814us/step - loss: 0.6925\n",
      "Epoch 91/100\n",
      "250/250 [==============================] - 0s 768us/step - loss: 0.6925\n",
      "Epoch 92/100\n",
      "250/250 [==============================] - 0s 748us/step - loss: 0.6925\n",
      "Epoch 93/100\n",
      "250/250 [==============================] - 0s 823us/step - loss: 0.6925\n",
      "Epoch 94/100\n",
      "250/250 [==============================] - 0s 746us/step - loss: 0.6925\n",
      "Epoch 95/100\n",
      "250/250 [==============================] - 0s 764us/step - loss: 0.6925\n",
      "Epoch 96/100\n",
      "250/250 [==============================] - 0s 793us/step - loss: 0.6925\n",
      "Epoch 97/100\n"
     ]
    },
    {
     "name": "stdout",
     "output_type": "stream",
     "text": [
      "250/250 [==============================] - 0s 740us/step - loss: 0.6925\n",
      "Epoch 98/100\n",
      "250/250 [==============================] - 0s 884us/step - loss: 0.6924\n",
      "Epoch 99/100\n",
      "250/250 [==============================] - 0s 897us/step - loss: 0.6924\n",
      "Epoch 100/100\n",
      "250/250 [==============================] - 0s 864us/step - loss: 0.6924\n"
     ]
    },
    {
     "data": {
      "text/plain": [
       "<tensorflow.python.keras.callbacks.History at 0x19126826370>"
      ]
     },
     "execution_count": 45,
     "metadata": {},
     "output_type": "execute_result"
    }
   ],
   "source": [
    "model.fit(X_train,y_train,epochs=100)"
   ]
  },
  {
   "cell_type": "code",
   "execution_count": 47,
   "id": "67cf79ae",
   "metadata": {},
   "outputs": [],
   "source": [
    "l=pd.DataFrame(model.history.history)"
   ]
  },
  {
   "cell_type": "code",
   "execution_count": 48,
   "id": "a65eff41",
   "metadata": {},
   "outputs": [
    {
     "data": {
      "text/plain": [
       "<AxesSubplot:>"
      ]
     },
     "execution_count": 48,
     "metadata": {},
     "output_type": "execute_result"
    },
    {
     "data": {
      "image/png": "[encoded data removed]",
      "text/plain": [
       "<Figure size 432x288 with 1 Axes>"
      ]
     },
     "metadata": {
      "needs_background": "light"
     },
     "output_type": "display_data"
    }
   ],
   "source": [
    "l.plot()"
   ]
  },
  {
   "cell_type": "code",
   "execution_count": null,
   "id": "ec8f3a78",
   "metadata": {},
   "outputs": [],
   "source": []
  }
 ],
 "metadata": {
  "kernelspec": {
   "display_name": "Python 3",
   "language": "python",
   "name": "python3"
  },
  "language_info": {
   "codemirror_mode": {
    "name": "ipython",
    "version": 3
   },
   "file_extension": ".py",
   "mimetype": "text/x-python",
   "name": "python",
   "nbconvert_exporter": "python",
   "pygments_lexer": "ipython3",
   "version": "3.8.8"
  }
 },
 "nbformat": 4,
 "nbformat_minor": 5
}
